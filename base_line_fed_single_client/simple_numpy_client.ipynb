{
 "cells": [
  {
   "cell_type": "code",
   "execution_count": null,
   "id": "4c6b347b-d46e-48d1-9403-2868f571736b",
   "metadata": {},
   "outputs": [],
   "source": [
    "from collections import OrderedDict\n",
    "import flwr as fl\n",
    "import torch\n",
    "\n",
    "\n",
    "class SimpleNumpyClient(fl.client.NumPyClient):\n",
    "    client_counter = 0\n",
    "    def __init__(self, net, train_fn, test_fn, trainloader, testloader):\n",
    "        super(SimpleNumpyClient, self).__init__()\n",
    "        SimpleNumpyClient.client_counter += 1\n",
    "        self._net = net\n",
    "        self._train = train_fn\n",
    "        self._test = test_fn\n",
    "        self._trainloader = trainloader\n",
    "        self._testloader = testloader\n",
    "        self._id = SimpleNumpyClient.client_counter\n",
    "        print('SimpleNumpyClient.__init__', self._id)\n",
    "\n",
    "    def get_parameters(self, config):\n",
    "        print()\n",
    "        print('******************************************')\n",
    "        print(f'SimpleNumpyClient.get_parameters id {self._id} config {config}')\n",
    "        print('******************************************')\n",
    "        return [val.cpu().numpy() for _, val in self._net.state_dict().items()]\n",
    "\n",
    "    def set_parameters(self, parameters):\n",
    "        print()\n",
    "        print('******************************************')\n",
    "        print(f'SimpleNumpyClient.set_parameters id {self._id} parameters num {len(parameters)}')\n",
    "        print('******************************************')\n",
    "        params_dict = zip(self._net.state_dict().keys(), parameters)\n",
    "        state_dict = OrderedDict({k: torch.tensor(v) for k, v in params_dict})\n",
    "        self._net.load_state_dict(state_dict, strict=True)\n",
    "\n",
    "    def fit(self, parameters, config):\n",
    "        print()\n",
    "        print('******************************************')\n",
    "        print('SimpleNumpyClient.fit', self._id)\n",
    "        self.set_parameters(parameters)\n",
    "        self._train(self._net, self._trainloader, epochs=1)\n",
    "        return self.get_parameters(config={}), len(self._trainloader.dataset), {}\n",
    "\n",
    "    def evaluate(self, parameters, config):\n",
    "        print()\n",
    "        print('******************************************')\n",
    "        print('SimpleNumpyClient.evaluate', self._id)\n",
    "        print('******************************************')\n",
    "        self.set_parameters(parameters)\n",
    "        loss, accuracy = self._test(self._net, self._testloader)\n",
    "        return float(loss), len(self._testloader.dataset), {\"accuracy\": float(accuracy)}"
   ]
  }
 ],
 "metadata": {
  "kernelspec": {
   "display_name": "Python 3 (ipykernel)",
   "language": "python",
   "name": "python3"
  },
  "language_info": {
   "codemirror_mode": {
    "name": "ipython",
    "version": 3
   },
   "file_extension": ".py",
   "mimetype": "text/x-python",
   "name": "python",
   "nbconvert_exporter": "python",
   "pygments_lexer": "ipython3",
   "version": "3.10.12"
  }
 },
 "nbformat": 4,
 "nbformat_minor": 5
}
